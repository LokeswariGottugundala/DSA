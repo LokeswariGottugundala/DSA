{
  "nbformat": 4,
  "nbformat_minor": 0,
  "metadata": {
    "colab": {
      "provenance": [],
      "authorship_tag": "ABX9TyMfHYrrLJKKOHVp3dGw5lEj",
      "include_colab_link": true
    },
    "kernelspec": {
      "name": "python3",
      "display_name": "Python 3"
    },
    "language_info": {
      "name": "python"
    }
  },
  "cells": [
    {
      "cell_type": "markdown",
      "metadata": {
        "id": "view-in-github",
        "colab_type": "text"
      },
      "source": [
        "<a href=\"https://colab.research.google.com/github/LokeswariGottugundala/DSA/blob/main/DSA.ipynb\" target=\"_parent\"><img src=\"https://colab.research.google.com/assets/colab-badge.svg\" alt=\"Open In Colab\"/></a>"
      ]
    },
    {
      "cell_type": "code",
      "execution_count": null,
      "metadata": {
        "colab": {
          "base_uri": "https://localhost:8080/"
        },
        "id": "qneEVIQ6MFOY",
        "outputId": "dc27e461-cb32-4d0a-d4e2-1d7c38853619"
      },
      "outputs": [
        {
          "name": "stdout",
          "output_type": "stream",
          "text": [
            "limit:3\n",
            "select 1.push 2.pop 3.quit\n",
            "1\n",
            "4\n",
            "[4]\n",
            "select 1.push 2.pop 3.quit\n",
            "1\n",
            "5\n",
            "[4, 5]\n",
            "select 1.push 2.pop 3.quit\n",
            "1\n",
            "6\n",
            "[4, 5, 6]\n",
            "select 1.push 2.pop 3.quit\n",
            "1\n",
            "stack is full\n",
            "select 1.push 2.pop 3.quit\n",
            "2\n",
            "6\n",
            "[4, 5]\n",
            "select 1.push 2.pop 3.quit\n",
            "3\n"
          ]
        }
      ],
      "source": [
        "stack =[]\n",
        "def push():\n",
        "  if len(stack)==n:\n",
        "    print(\"stack is full\")\n",
        "  else:\n",
        "    ele = int(input())\n",
        "    stack.append(ele)\n",
        "    print(stack)\n",
        "def pop():\n",
        "  if len(stack)==0:\n",
        "    print(\"stack is empty\")\n",
        "  else:\n",
        "    e = stack.pop()\n",
        "    print(e)\n",
        "    print(stack)\n",
        "n=int(input(\"limit:\"))\n",
        "while True:\n",
        "  print(\"select 1.push 2.pop 3.quit\")\n",
        "  choice = int(input())\n",
        "  if choice==1:\n",
        "    push()\n",
        "  elif choice==2:\n",
        "    pop()\n",
        "  elif choice==3:\n",
        "    break\n",
        "  else:\n",
        "    print(\"enter correct option\")\n",
        "\n"
      ]
    },
    {
      "cell_type": "markdown",
      "source": [
        "# USING COLLECTIONS IN MODULES"
      ],
      "metadata": {
        "id": "tAX3es6MTjvB"
      }
    },
    {
      "cell_type": "code",
      "source": [
        "import collections\n",
        "stack = collections.deque()\n",
        "stack.append(10)\n",
        "stack.append(20)\n",
        "stack.append(30)\n",
        "print(stack)\n",
        "print(stack.pop())\n",
        "print(stack)\n",
        "print(stack.pop())\n",
        "print(stack)\n",
        "print(stack.pop())\n",
        "print(stack)"
      ],
      "metadata": {
        "colab": {
          "base_uri": "https://localhost:8080/"
        },
        "id": "nyfZPkdhPfhL",
        "outputId": "6031fe22-ceea-4275-d72d-baa14cbe87f1"
      },
      "execution_count": null,
      "outputs": [
        {
          "output_type": "stream",
          "name": "stdout",
          "text": [
            "deque([10, 20, 30])\n",
            "30\n",
            "deque([10, 20])\n",
            "20\n",
            "deque([10])\n",
            "10\n",
            "deque([])\n"
          ]
        }
      ]
    },
    {
      "cell_type": "markdown",
      "source": [
        "# USING QUEUE"
      ],
      "metadata": {
        "id": "9YpRiTvs3igv"
      }
    },
    {
      "cell_type": "code",
      "source": [
        "import queue\n",
        "from queue import LifoQueue\n",
        "stack = queue.LifoQueue()\n",
        "stack.put(10)\n",
        "stack.put(20)\n",
        "stack.put(30)\n",
        "print(stack)\n",
        "print(stack.get())\n",
        "print(stack)\n",
        "print(stack.get())\n",
        "print(stack)\n",
        "print(stack.get())\n",
        "print(stack)"
      ],
      "metadata": {
        "colab": {
          "base_uri": "https://localhost:8080/"
        },
        "id": "RLtR1cDsUSly",
        "outputId": "1728ee4a-ae61-46cf-c942-164a77743044"
      },
      "execution_count": 2,
      "outputs": [
        {
          "output_type": "stream",
          "name": "stdout",
          "text": [
            "<queue.LifoQueue object at 0x79f98859a350>\n",
            "30\n",
            "<queue.LifoQueue object at 0x79f98859a350>\n",
            "20\n",
            "<queue.LifoQueue object at 0x79f98859a350>\n",
            "10\n",
            "<queue.LifoQueue object at 0x79f98859a350>\n"
          ]
        }
      ]
    },
    {
      "cell_type": "code",
      "source": [],
      "metadata": {
        "id": "fdgeHKXyXsxr"
      },
      "execution_count": null,
      "outputs": []
    }
  ]
}